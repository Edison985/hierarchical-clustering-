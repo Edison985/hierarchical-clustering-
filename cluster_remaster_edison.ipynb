{
  "nbformat": 4,
  "nbformat_minor": 0,
  "metadata": {
    "colab": {
      "provenance": []
    },
    "kernelspec": {
      "name": "python3",
      "display_name": "Python 3"
    },
    "language_info": {
      "name": "python"
    }
  },
  "cells": [
    {
      "cell_type": "markdown",
      "source": [],
      "metadata": {
        "id": "7TJfjgH6-M_P"
      }
    },
    {
      "cell_type": "markdown",
      "source": [
        "Importacion de librerias"
      ],
      "metadata": {
        "id": "ITbOGDRQBgy0"
      }
    },
    {
      "cell_type": "code",
      "execution_count": null,
      "metadata": {
        "id": "_0gcbdUO99T6"
      },
      "outputs": [],
      "source": [
        "import pandas as pd\n",
        "import numpy as np\n",
        "import matplotlib.pyplot as plt\n",
        "import seaborn as sns\n",
        "\n",
        "from sklearn.preprocessing import StandardScaler\n",
        "from sklearn.metrics import silhouette_score, davies_bouldin_score, calinski_harabasz_score\n",
        "from sklearn.cluster import AgglomerativeClustering\n",
        "from scipy.cluster.hierarchy import linkage, dendrogram, cophenet\n",
        "from scipy.spatial.distance import pdist\n",
        "\n"
      ]
    },
    {
      "cell_type": "markdown",
      "source": [
        "Subir el archivo a google colab"
      ],
      "metadata": {
        "id": "LCQDAY7NBjdU"
      }
    },
    {
      "cell_type": "code",
      "source": [
        "from google.colab import files\n",
        "uploaded = files.upload()"
      ],
      "metadata": {
        "colab": {
          "base_uri": "https://localhost:8080/",
          "height": 73
        },
        "id": "rqJIWYT0-2DE",
        "outputId": "09bf0624-bb32-47bd-b0fb-1bd987d9b56d"
      },
      "execution_count": null,
      "outputs": [
        {
          "output_type": "display_data",
          "data": {
            "text/plain": [
              "<IPython.core.display.HTML object>"
            ],
            "text/html": [
              "\n",
              "     <input type=\"file\" id=\"files-35faa4cd-e73c-4373-8cd2-68973ea9d1e6\" name=\"files[]\" multiple disabled\n",
              "        style=\"border:none\" />\n",
              "     <output id=\"result-35faa4cd-e73c-4373-8cd2-68973ea9d1e6\">\n",
              "      Upload widget is only available when the cell has been executed in the\n",
              "      current browser session. Please rerun this cell to enable.\n",
              "      </output>\n",
              "      <script>// Copyright 2017 Google LLC\n",
              "//\n",
              "// Licensed under the Apache License, Version 2.0 (the \"License\");\n",
              "// you may not use this file except in compliance with the License.\n",
              "// You may obtain a copy of the License at\n",
              "//\n",
              "//      http://www.apache.org/licenses/LICENSE-2.0\n",
              "//\n",
              "// Unless required by applicable law or agreed to in writing, software\n",
              "// distributed under the License is distributed on an \"AS IS\" BASIS,\n",
              "// WITHOUT WARRANTIES OR CONDITIONS OF ANY KIND, either express or implied.\n",
              "// See the License for the specific language governing permissions and\n",
              "// limitations under the License.\n",
              "\n",
              "/**\n",
              " * @fileoverview Helpers for google.colab Python module.\n",
              " */\n",
              "(function(scope) {\n",
              "function span(text, styleAttributes = {}) {\n",
              "  const element = document.createElement('span');\n",
              "  element.textContent = text;\n",
              "  for (const key of Object.keys(styleAttributes)) {\n",
              "    element.style[key] = styleAttributes[key];\n",
              "  }\n",
              "  return element;\n",
              "}\n",
              "\n",
              "// Max number of bytes which will be uploaded at a time.\n",
              "const MAX_PAYLOAD_SIZE = 100 * 1024;\n",
              "\n",
              "function _uploadFiles(inputId, outputId) {\n",
              "  const steps = uploadFilesStep(inputId, outputId);\n",
              "  const outputElement = document.getElementById(outputId);\n",
              "  // Cache steps on the outputElement to make it available for the next call\n",
              "  // to uploadFilesContinue from Python.\n",
              "  outputElement.steps = steps;\n",
              "\n",
              "  return _uploadFilesContinue(outputId);\n",
              "}\n",
              "\n",
              "// This is roughly an async generator (not supported in the browser yet),\n",
              "// where there are multiple asynchronous steps and the Python side is going\n",
              "// to poll for completion of each step.\n",
              "// This uses a Promise to block the python side on completion of each step,\n",
              "// then passes the result of the previous step as the input to the next step.\n",
              "function _uploadFilesContinue(outputId) {\n",
              "  const outputElement = document.getElementById(outputId);\n",
              "  const steps = outputElement.steps;\n",
              "\n",
              "  const next = steps.next(outputElement.lastPromiseValue);\n",
              "  return Promise.resolve(next.value.promise).then((value) => {\n",
              "    // Cache the last promise value to make it available to the next\n",
              "    // step of the generator.\n",
              "    outputElement.lastPromiseValue = value;\n",
              "    return next.value.response;\n",
              "  });\n",
              "}\n",
              "\n",
              "/**\n",
              " * Generator function which is called between each async step of the upload\n",
              " * process.\n",
              " * @param {string} inputId Element ID of the input file picker element.\n",
              " * @param {string} outputId Element ID of the output display.\n",
              " * @return {!Iterable<!Object>} Iterable of next steps.\n",
              " */\n",
              "function* uploadFilesStep(inputId, outputId) {\n",
              "  const inputElement = document.getElementById(inputId);\n",
              "  inputElement.disabled = false;\n",
              "\n",
              "  const outputElement = document.getElementById(outputId);\n",
              "  outputElement.innerHTML = '';\n",
              "\n",
              "  const pickedPromise = new Promise((resolve) => {\n",
              "    inputElement.addEventListener('change', (e) => {\n",
              "      resolve(e.target.files);\n",
              "    });\n",
              "  });\n",
              "\n",
              "  const cancel = document.createElement('button');\n",
              "  inputElement.parentElement.appendChild(cancel);\n",
              "  cancel.textContent = 'Cancel upload';\n",
              "  const cancelPromise = new Promise((resolve) => {\n",
              "    cancel.onclick = () => {\n",
              "      resolve(null);\n",
              "    };\n",
              "  });\n",
              "\n",
              "  // Wait for the user to pick the files.\n",
              "  const files = yield {\n",
              "    promise: Promise.race([pickedPromise, cancelPromise]),\n",
              "    response: {\n",
              "      action: 'starting',\n",
              "    }\n",
              "  };\n",
              "\n",
              "  cancel.remove();\n",
              "\n",
              "  // Disable the input element since further picks are not allowed.\n",
              "  inputElement.disabled = true;\n",
              "\n",
              "  if (!files) {\n",
              "    return {\n",
              "      response: {\n",
              "        action: 'complete',\n",
              "      }\n",
              "    };\n",
              "  }\n",
              "\n",
              "  for (const file of files) {\n",
              "    const li = document.createElement('li');\n",
              "    li.append(span(file.name, {fontWeight: 'bold'}));\n",
              "    li.append(span(\n",
              "        `(${file.type || 'n/a'}) - ${file.size} bytes, ` +\n",
              "        `last modified: ${\n",
              "            file.lastModifiedDate ? file.lastModifiedDate.toLocaleDateString() :\n",
              "                                    'n/a'} - `));\n",
              "    const percent = span('0% done');\n",
              "    li.appendChild(percent);\n",
              "\n",
              "    outputElement.appendChild(li);\n",
              "\n",
              "    const fileDataPromise = new Promise((resolve) => {\n",
              "      const reader = new FileReader();\n",
              "      reader.onload = (e) => {\n",
              "        resolve(e.target.result);\n",
              "      };\n",
              "      reader.readAsArrayBuffer(file);\n",
              "    });\n",
              "    // Wait for the data to be ready.\n",
              "    let fileData = yield {\n",
              "      promise: fileDataPromise,\n",
              "      response: {\n",
              "        action: 'continue',\n",
              "      }\n",
              "    };\n",
              "\n",
              "    // Use a chunked sending to avoid message size limits. See b/62115660.\n",
              "    let position = 0;\n",
              "    do {\n",
              "      const length = Math.min(fileData.byteLength - position, MAX_PAYLOAD_SIZE);\n",
              "      const chunk = new Uint8Array(fileData, position, length);\n",
              "      position += length;\n",
              "\n",
              "      const base64 = btoa(String.fromCharCode.apply(null, chunk));\n",
              "      yield {\n",
              "        response: {\n",
              "          action: 'append',\n",
              "          file: file.name,\n",
              "          data: base64,\n",
              "        },\n",
              "      };\n",
              "\n",
              "      let percentDone = fileData.byteLength === 0 ?\n",
              "          100 :\n",
              "          Math.round((position / fileData.byteLength) * 100);\n",
              "      percent.textContent = `${percentDone}% done`;\n",
              "\n",
              "    } while (position < fileData.byteLength);\n",
              "  }\n",
              "\n",
              "  // All done.\n",
              "  yield {\n",
              "    response: {\n",
              "      action: 'complete',\n",
              "    }\n",
              "  };\n",
              "}\n",
              "\n",
              "scope.google = scope.google || {};\n",
              "scope.google.colab = scope.google.colab || {};\n",
              "scope.google.colab._files = {\n",
              "  _uploadFiles,\n",
              "  _uploadFilesContinue,\n",
              "};\n",
              "})(self);\n",
              "</script> "
            ]
          },
          "metadata": {}
        },
        {
          "output_type": "stream",
          "name": "stdout",
          "text": [
            "Saving Mall_Customers.csv to Mall_Customers.csv\n"
          ]
        }
      ]
    },
    {
      "cell_type": "markdown",
      "source": [
        "**1. Cargar datos**"
      ],
      "metadata": {
        "id": "qDUktenkBorc"
      }
    },
    {
      "cell_type": "code",
      "source": [
        "df = pd.read_csv('Mall_Customers.csv')"
      ],
      "metadata": {
        "id": "HI07_Ee6-djn"
      },
      "execution_count": null,
      "outputs": []
    },
    {
      "cell_type": "markdown",
      "source": [
        "**2. Seleccionar caracteristicas relevantes**"
      ],
      "metadata": {
        "id": "ofFGmTExBv9X"
      }
    },
    {
      "cell_type": "code",
      "source": [
        "X = df[['Annual Income (k$)', 'Spending Score (1-100)']]"
      ],
      "metadata": {
        "id": "1Vr4msdK-_7a"
      },
      "execution_count": null,
      "outputs": []
    },
    {
      "cell_type": "code",
      "source": [
        "#Eliminar columnas irrelevantes\n",
        "df_clean = df.drop(['CustomerID'], axis=1)\n",
        "\n",
        "#Convertir genero a valores numericos\n",
        "df_clean['Gender'] = df_clean['Gender'].map({'Male': 0, 'Female': 1})"
      ],
      "metadata": {
        "id": "GyxjBl4mC2aS"
      },
      "execution_count": null,
      "outputs": []
    },
    {
      "cell_type": "markdown",
      "source": [
        "**3. Estandarizar**"
      ],
      "metadata": {
        "id": "pRKAERZ1B-4d"
      }
    },
    {
      "cell_type": "code",
      "source": [
        "scaler = StandardScaler()\n",
        "X_scaled = scaler.fit_transform(X)"
      ],
      "metadata": {
        "id": "L-skX2-0_Qjm"
      },
      "execution_count": null,
      "outputs": []
    },
    {
      "cell_type": "markdown",
      "source": [
        "**4. Calcular coeficiente cofenético y métricas para varios k**"
      ],
      "metadata": {
        "id": "j9T0G6l2CEcW"
      }
    },
    {
      "cell_type": "code",
      "source": [
        "link_matrix = linkage(X_scaled, method='ward')\n",
        "coph_corr, coph_dist = cophenet(link_matrix, pdist(X_scaled))\n",
        "print(f\"Coeficiente de correlación cofenética: {coph_corr:.4f}\")\n",
        "\n"
      ],
      "metadata": {
        "colab": {
          "base_uri": "https://localhost:8080/"
        },
        "id": "_rU4cy-p_T6c",
        "outputId": "76f0f4a0-c969-4c8e-d0b6-248bad12f395"
      },
      "execution_count": null,
      "outputs": [
        {
          "output_type": "stream",
          "name": "stdout",
          "text": [
            "Coeficiente de correlación cofenética: 0.7209\n"
          ]
        }
      ]
    },
    {
      "cell_type": "markdown",
      "source": [
        "**5. Evaluación con diferentes k**"
      ],
      "metadata": {
        "id": "253HaXsxCMwo"
      }
    },
    {
      "cell_type": "code",
      "source": [
        "silhouette_scores = []\n",
        "dbi_scores = []\n",
        "ks = range(2, 11)"
      ],
      "metadata": {
        "id": "AFRpFdx9AM9k"
      },
      "execution_count": null,
      "outputs": []
    },
    {
      "cell_type": "code",
      "source": [
        "for k in ks:\n",
        "    hc = AgglomerativeClustering(n_clusters=k, linkage='ward', metric='euclidean')\n",
        "    labels = hc.fit_predict(X_scaled)\n",
        "\n",
        "    sil_score = silhouette_score(X_scaled, labels)\n",
        "    dbi_score = davies_bouldin_score(X_scaled, labels)\n",
        "\n",
        "    silhouette_scores.append(sil_score)\n",
        "    dbi_scores.append(dbi_score)"
      ],
      "metadata": {
        "id": "k-75NecqAWdg"
      },
      "execution_count": null,
      "outputs": []
    },
    {
      "cell_type": "markdown",
      "source": [
        "**6. Muestra de resultados**"
      ],
      "metadata": {
        "id": "BWyRWsteCTB3"
      }
    },
    {
      "cell_type": "code",
      "source": [
        "plt.figure(figsize=(12, 5))\n",
        "\n",
        "plt.subplot(1, 2, 1)\n",
        "plt.plot(ks, silhouette_scores, marker='o')\n",
        "plt.title('Silhouette Score por número de clusters')\n",
        "plt.xlabel('Número de clusters (k)')\n",
        "plt.ylabel('Silhouette Score')\n",
        "\n",
        "plt.subplot(1, 2, 2)\n",
        "plt.plot(ks, dbi_scores, marker='o', color='red')\n",
        "plt.title('Davies-Bouldin Index por número de clusters')\n",
        "plt.xlabel('Número de clusters (k)')\n",
        "plt.ylabel('DB Index')\n",
        "\n",
        "plt.tight_layout()\n",
        "plt.show()"
      ],
      "metadata": {
        "colab": {
          "base_uri": "https://localhost:8080/",
          "height": 507
        },
        "id": "eSa_LyKtAaZ-",
        "outputId": "c998daab-9ff7-47aa-c0dd-8fc4a5deef4b"
      },
      "execution_count": null,
      "outputs": [
        {
          "output_type": "display_data",
          "data": {
            "text/plain": [
              "<Figure size 1200x500 with 2 Axes>"
            ],
            "image/png": "[encoded data removed]"
          },
          "metadata": {}
        }
      ]
    },
    {
      "cell_type": "markdown",
      "source": [
        "**7. Seleccion de los mejores k segun Silhouette**"
      ],
      "metadata": {
        "id": "o3Zf7cGACZ18"
      }
    },
    {
      "cell_type": "code",
      "source": [
        "top_2_k = sorted(zip(ks, silhouette_scores), key=lambda x: x[1], reverse=True)[:2]\n",
        "print(\"Top 2 k con mejor Silhouette:\")\n",
        "for k, score in top_2_k:\n",
        "    print(f\"k = {k} -> Silhouette = {score:.4f}\")"
      ],
      "metadata": {
        "colab": {
          "base_uri": "https://localhost:8080/"
        },
        "id": "CO-dD1BRAk9H",
        "outputId": "94c7ce07-5d6c-43a8-b56a-689c9bb790f3"
      },
      "execution_count": null,
      "outputs": [
        {
          "output_type": "stream",
          "name": "stdout",
          "text": [
            "Top 2 k con mejor Silhouette:\n",
            "k = 5 -> Silhouette = 0.5538\n",
            "k = 6 -> Silhouette = 0.5387\n"
          ]
        }
      ]
    },
    {
      "cell_type": "markdown",
      "source": [
        "**8. Entrenar modelos con esos k y hacer la evaluacion**"
      ],
      "metadata": {
        "id": "bKLQJO6mCiYN"
      }
    },
    {
      "cell_type": "code",
      "source": [
        "for k, _ in top_2_k:\n",
        "    hc = AgglomerativeClustering(n_clusters=k, linkage='ward', metric='euclidean')\n",
        "    labels = hc.fit_predict(X_scaled)\n",
        "\n",
        "    ch_index = calinski_harabasz_score(X_scaled, labels)\n",
        "    dbi = davies_bouldin_score(X_scaled, labels)\n",
        "\n",
        "    print(f\"\\nModelo con k = {k}\")\n",
        "    print(f\"Calinski-Harabasz Index: {ch_index:.2f}\")\n",
        "    print(f\"Davies-Bouldin Index: {dbi:.4f}\")"
      ],
      "metadata": {
        "colab": {
          "base_uri": "https://localhost:8080/"
        },
        "id": "gXNbDKCvAm0w",
        "outputId": "e28ae1a5-2c13-428f-8250-d2723c8237b3"
      },
      "execution_count": null,
      "outputs": [
        {
          "output_type": "stream",
          "name": "stdout",
          "text": [
            "\n",
            "Modelo con k = 5\n",
            "Calinski-Harabasz Index: 244.41\n",
            "Davies-Bouldin Index: 0.5779\n",
            "\n",
            "Modelo con k = 6\n",
            "Calinski-Harabasz Index: 233.31\n",
            "Davies-Bouldin Index: 0.6449\n"
          ]
        }
      ]
    },
    {
      "cell_type": "markdown",
      "source": [
        "**7.  Interpretacion de resulatados**\n",
        "\n",
        "\n",
        "\n",
        "Se aplicó el algoritmo de Hierarchical Clustering con 5 clusters sobre un subconjunto de variables del dataset Mall_Customers.csv, típicamente Annual Income (ingreso anual) y Spending Score (puntaje de gasto), que son las más relevantes para segmentar a los clientes.\n",
        "\n",
        "El análisis de clustering jerárquico aplicado al dataset Mall_Customers.csv permitió segmentar a los clientes en grupos con patrones de comportamiento distintos, lo que facilita la toma de decisiones estratégicas en marketing. Gracias a la evaluación de múltiples métricas (Silhouette, Calinski-Harabasz, Davies-Bouldin y correlación cofenética), se pudo determinar que 3 y 5 son los valores óptimos de K, siendo 5 clústeres la opción más robusta.\n",
        "\n",
        "Esta segmentación no solo mejora el entendimiento del perfil de los clientes, sino que también abre la puerta a campañas más efectivas, enfocadas y personalizadas según el ingreso y el comportamiento de gasto."
      ],
      "metadata": {
        "id": "OlsyL_4NMrCk"
      }
    }
  ]
}